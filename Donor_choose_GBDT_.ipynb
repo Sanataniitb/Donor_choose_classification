{
 "cells": [
  {
   "cell_type": "markdown",
   "metadata": {
    "colab_type": "text",
    "id": "BOyTl7oKsc3W"
   },
   "source": [
    "<h1>1. GBDT (xgboost/lightgbm) </h1>"
   ]
  },
  {
   "cell_type": "markdown",
   "metadata": {
    "colab_type": "text",
    "id": "78BocCY1XBNx"
   },
   "source": [
    "<h2>project title preprocessing</h2>"
   ]
  },
  {
   "cell_type": "code",
   "execution_count": 0,
   "metadata": {
    "colab": {},
    "colab_type": "code",
    "id": "7K6nA4EgXBNy"
   },
   "outputs": [],
   "source": [
    "%matplotlib inline\n",
    "import warnings\n",
    "warnings.filterwarnings(\"ignore\")\n",
    "import numpy as np\n",
    "import pandas\n",
    "import nltk\n",
    "import matplotlib.pyplot as plt\n",
    "import seaborn as sns\n",
    "from sklearn.feature_extraction.text import TfidfVectorizer\n",
    "from sklearn.feature_extraction.text import CountVectorizer\n",
    "from sklearn.metrics import confusion_matrix\n",
    "from sklearn import metrics\n",
    "from sklearn.metrics import roc_curve, auc\n",
    "\n",
    "import re\n",
    "from wordcloud import WordCloud, STOPWORDS \n",
    "import pickle\n",
    "from tqdm.auto import tqdm,trange\n",
    "import os"
   ]
  },
  {
   "cell_type": "code",
   "execution_count": 3,
   "metadata": {
    "colab": {
     "base_uri": "https://localhost:8080/",
     "height": 237
    },
    "colab_type": "code",
    "id": "gdH2EVU0XScw",
    "outputId": "c7f622ca-ba1e-4c8d-e92b-1221dcfadc94"
   },
   "outputs": [
    {
     "name": "stdout",
     "output_type": "stream",
     "text": [
      "--2020-05-22 08:59:33--  https://doc-0k-b0-docs.googleusercontent.com/docs/securesc/osqr15dsa8os0ct2afjfhurmcaglpf5g/mu6d9f56c2idun80b6bmudgv8u3fmrt9/1590137925000/00484516897554883881/16096367365252587562/1Cd-GG86OqeGFn9vmYxUgWOmYtsRAYBDO?e=download&authuser=0&nonce=b8kpmkkftanfc&user=16096367365252587562&hash=p54qgfcu1akac0cr7apvio571ovke5m5\n",
      "Resolving doc-0k-b0-docs.googleusercontent.com (doc-0k-b0-docs.googleusercontent.com)... 64.233.187.132, 2404:6800:4008:c05::84\n",
      "Connecting to doc-0k-b0-docs.googleusercontent.com (doc-0k-b0-docs.googleusercontent.com)|64.233.187.132|:443... connected.\n",
      "HTTP request sent, awaiting response... 200 OK\n",
      "Length: unspecified [text/csv]\n",
      "Saving to: ‘train_data.csv’\n",
      "\n",
      "train_data.csv          [       <=>          ] 191.64M  78.9MB/s    in 2.4s    \n",
      "\n",
      "2020-05-22 08:59:36 (78.9 MB/s) - ‘train_data.csv’ saved [200947019]\n",
      "\n"
     ]
    }
   ],
   "source": [
    "!wget --header=\"Host: doc-0k-b0-docs.googleusercontent.com\" --header=\"User-Agent: Mozilla/5.0 (Windows NT 10.0; Win64; x64) AppleWebKit/537.36 (KHTML, like Gecko) Chrome/81.0.4044.138 Safari/537.36\" --header=\"Accept: text/html,application/xhtml+xml,application/xml;q=0.9,image/webp,image/apng,*/*;q=0.8,application/signed-exchange;v=b3;q=0.9\" --header=\"Accept-Language: en-US,en;q=0.9\" --header=\"Referer: https://drive.google.com/drive/folders/1Z9rSTNsSLyXeNI33KT9O42omfVl8AFWQ\" --header=\"Cookie: AUTH_c786ms9a8pjpb9kja0mvr3d2mp7acbmq_nonce=b8kpmkkftanfc\" --header=\"Connection: keep-alive\" \"https://doc-0k-b0-docs.googleusercontent.com/docs/securesc/osqr15dsa8os0ct2afjfhurmcaglpf5g/mu6d9f56c2idun80b6bmudgv8u3fmrt9/1590137925000/00484516897554883881/16096367365252587562/1Cd-GG86OqeGFn9vmYxUgWOmYtsRAYBDO?e=download&authuser=0&nonce=b8kpmkkftanfc&user=16096367365252587562&hash=p54qgfcu1akac0cr7apvio571ovke5m5\" -c -O 'train_data.csv'"
   ]
  },
  {
   "cell_type": "code",
   "execution_count": 0,
   "metadata": {
    "colab": {},
    "colab_type": "code",
    "id": "Pzy-4OXBXBN1"
   },
   "outputs": [],
   "source": [
    "project_data = pandas.read_csv('train_data.csv')"
   ]
  },
  {
   "cell_type": "code",
   "execution_count": 0,
   "metadata": {
    "colab": {},
    "colab_type": "code",
    "id": "7BOjKHYAXBN3"
   },
   "outputs": [],
   "source": [
    "import re\n",
    "\n",
    "def decontracted(phrase):\n",
    "    # specific\n",
    "    phrase = re.sub(r\"won't\", \"will not\", phrase)\n",
    "    phrase = re.sub(r\"can\\'t\", \"can not\", phrase)\n",
    "\n",
    "    # general\n",
    "    phrase = re.sub(r\"n\\'t\", \" not\", phrase)\n",
    "    phrase = re.sub(r\"\\'re\", \" are\", phrase)\n",
    "    phrase = re.sub(r\"\\'s\", \" is\", phrase)\n",
    "    phrase = re.sub(r\"\\'d\", \" would\", phrase)\n",
    "    phrase = re.sub(r\"\\'ll\", \" will\", phrase)\n",
    "    phrase = re.sub(r\"\\'t\", \" not\", phrase)\n",
    "    phrase = re.sub(r\"\\'ve\", \" have\", phrase)\n",
    "    phrase = re.sub(r\"\\'m\", \" am\", phrase)\n",
    "    return phrase"
   ]
  },
  {
   "cell_type": "code",
   "execution_count": 0,
   "metadata": {
    "colab": {},
    "colab_type": "code",
    "id": "Kz4SVvWkXBN6"
   },
   "outputs": [],
   "source": [
    "stopwords= ['i', 'me', 'my', 'myself', 'we', 'our', 'ours', 'ourselves', 'you', \"you're\", \"you've\",\\\n",
    "            \"you'll\", \"you'd\", 'your', 'yours', 'yourself', 'yourselves', 'he', 'him', 'his', 'himself', \\\n",
    "            'she', \"she's\", 'her', 'hers', 'herself', 'it', \"it's\", 'its', 'itself', 'they', 'them', 'their',\\\n",
    "            'theirs', 'themselves', 'what', 'which', 'who', 'whom', 'this', 'that', \"that'll\", 'these', 'those', \\\n",
    "            'am', 'is', 'are', 'was', 'were', 'be', 'been', 'being', 'have', 'has', 'had', 'having', 'do', 'does', \\\n",
    "            'did', 'doing', 'a', 'an', 'the', 'and', 'but', 'if', 'or', 'because', 'as', 'until', 'while', 'of', \\\n",
    "            'at', 'by', 'for', 'with', 'about', 'against', 'between', 'into', 'through', 'during', 'before', 'after',\\\n",
    "            'above', 'below', 'to', 'from', 'up', 'down', 'in', 'out', 'on', 'off', 'over', 'under', 'again', 'further',\\\n",
    "            'then', 'once', 'here', 'there', 'when', 'where', 'why', 'how', 'all', 'any', 'both', 'each', 'few', 'more',\\\n",
    "            'most', 'other', 'some', 'such', 'only', 'own', 'same', 'so', 'than', 'too', 'very', \\\n",
    "            's', 't', 'can', 'will', 'just', 'don', \"don't\", 'should', \"should've\", 'now', 'd', 'll', 'm', 'o', 're', \\\n",
    "            've', 'y', 'ain', 'aren', \"aren't\", 'couldn', \"couldn't\", 'didn', \"didn't\", 'doesn', \"doesn't\", 'hadn',\\\n",
    "            \"hadn't\", 'hasn', \"hasn't\", 'haven', \"haven't\", 'isn', \"isn't\", 'ma', 'mightn', \"mightn't\", 'mustn',\\\n",
    "            \"mustn't\", 'needn', \"needn't\", 'shan', \"shan't\", 'shouldn', \"shouldn't\", 'wasn', \"wasn't\", 'weren', \"weren't\", \\\n",
    "            'won', \"won't\", 'wouldn', \"wouldn't\"]"
   ]
  },
  {
   "cell_type": "code",
   "execution_count": 7,
   "metadata": {
    "colab": {
     "base_uri": "https://localhost:8080/",
     "height": 90
    },
    "colab_type": "code",
    "id": "pE2cHDUrXBN9",
    "outputId": "8a28b121-8e71-4811-fc4b-5ff900a168bd"
   },
   "outputs": [
    {
     "name": "stdout",
     "output_type": "stream",
     "text": [
      "printing some random reviews\n",
      "9 Just For the Love of Reading--\\r\\nPure Pleasure\n",
      "34 \\\"Have A Ball!!!\\\"\n",
      "147 Who needs a Chromebook?\\r\\nWE DO!!\n"
     ]
    }
   ],
   "source": [
    "print(\"printing some random reviews\")\n",
    "print(9, project_data['project_title'].values[9])\n",
    "print(34, project_data['project_title'].values[34])\n",
    "print(147, project_data['project_title'].values[147])"
   ]
  },
  {
   "cell_type": "code",
   "execution_count": 8,
   "metadata": {
    "colab": {
     "base_uri": "https://localhost:8080/",
     "height": 35
    },
    "colab_type": "code",
    "id": "qgHZkJlXXBOC",
    "outputId": "2b3dd4b5-203f-48bd-fcc7-df6290b19ec7"
   },
   "outputs": [
    {
     "name": "stderr",
     "output_type": "stream",
     "text": [
      "100%|██████████| 109248/109248 [00:02<00:00, 52454.45it/s]\n"
     ]
    }
   ],
   "source": [
    "from tqdm import tqdm\n",
    "def preprocess_text(text_data):\n",
    "    preprocessed_text = []\n",
    "    for sentance in tqdm(text_data):\n",
    "        sent = decontracted(sentance)\n",
    "        sent = sent.replace('\\\\r', ' ')\n",
    "        sent = sent.replace('\\\\n', ' ')\n",
    "        sent = sent.replace('\\\\\"', ' ')\n",
    "        sent = re.sub('[^A-Za-z0-9]+', ' ', sent)\n",
    "        sent = ' '.join(e for e in sent.split() if e.lower() not in stopwords)\n",
    "        preprocessed_text.append(sent.lower().strip())\n",
    "    return preprocessed_text\n",
    "preprocessed_titles = preprocess_text(project_data['project_title'].values)"
   ]
  },
  {
   "cell_type": "code",
   "execution_count": 9,
   "metadata": {
    "colab": {
     "base_uri": "https://localhost:8080/",
     "height": 90
    },
    "colab_type": "code",
    "id": "1_Bjhm9uXBOF",
    "outputId": "1570b531-a598-4948-dc22-4b56b8ef1d6f"
   },
   "outputs": [
    {
     "name": "stdout",
     "output_type": "stream",
     "text": [
      "printing some random reviews\n",
      "9 love reading pure pleasure\n",
      "34 ball\n",
      "147 needs chromebook\n"
     ]
    }
   ],
   "source": [
    "print(\"printing some random reviews\")\n",
    "print(9, preprocessed_titles[9])\n",
    "print(34, preprocessed_titles[34])\n",
    "print(147, preprocessed_titles[147])"
   ]
  },
  {
   "cell_type": "markdown",
   "metadata": {
    "colab_type": "text",
    "id": "VWge-b2Zsc3Z"
   },
   "source": [
    "## 1.1 Loading Data"
   ]
  },
  {
   "cell_type": "code",
   "execution_count": 10,
   "metadata": {
    "colab": {
     "base_uri": "https://localhost:8080/",
     "height": 237
    },
    "colab_type": "code",
    "id": "WD13KCM-XkRg",
    "outputId": "1c3a8fbe-c0f1-4e11-f7fd-9a92ddcf5403"
   },
   "outputs": [
    {
     "name": "stdout",
     "output_type": "stream",
     "text": [
      "--2020-05-22 09:00:02--  https://doc-0c-b0-docs.googleusercontent.com/docs/securesc/osqr15dsa8os0ct2afjfhurmcaglpf5g/rmttormm1uhmusjjjmbq0mge6mh4kv3e/1590137925000/00484516897554883881/16096367365252587562/1GU3LIJJ3zS1xLXXe-sdItSJHtI5txjVO?e=download&authuser=0\n",
      "Resolving doc-0c-b0-docs.googleusercontent.com (doc-0c-b0-docs.googleusercontent.com)... 64.233.187.132, 2404:6800:4008:c05::84\n",
      "Connecting to doc-0c-b0-docs.googleusercontent.com (doc-0c-b0-docs.googleusercontent.com)|64.233.187.132|:443... connected.\n",
      "HTTP request sent, awaiting response... 200 OK\n",
      "Length: unspecified [text/csv]\n",
      "Saving to: ‘preprocessed_data.csv’\n",
      "\n",
      "\r",
      "preprocessed_data.c     [<=>                 ]       0  --.-KB/s               \r",
      "preprocessed_data.c     [ <=>                ]  16.37M  81.9MB/s               \r",
      "preprocessed_data.c     [  <=>               ]  32.01M  75.6MB/s               \r",
      "preprocessed_data.c     [   <=>              ]  69.18M   111MB/s               \r",
      "preprocessed_data.c     [    <=>             ]  95.49M   116MB/s               \r",
      "preprocessed_data.c     [     <=>            ] 101.30M  99.0MB/s               \r",
      "preprocessed_data.c     [      <=>           ] 118.69M   111MB/s    in 1.1s    \n",
      "\n",
      "2020-05-22 09:00:03 (111 MB/s) - ‘preprocessed_data.csv’ saved [124454659]\n",
      "\n"
     ]
    }
   ],
   "source": [
    "!wget --header=\"Host: doc-0c-b0-docs.googleusercontent.com\" --header=\"User-Agent: Mozilla/5.0 (Windows NT 10.0; Win64; x64) AppleWebKit/537.36 (KHTML, like Gecko) Chrome/81.0.4044.138 Safari/537.36\" --header=\"Accept: text/html,application/xhtml+xml,application/xml;q=0.9,image/webp,image/apng,*/*;q=0.8,application/signed-exchange;v=b3;q=0.9\" --header=\"Accept-Language: en-US,en;q=0.9\" --header=\"Referer: https://drive.google.com/drive/folders/1Z9rSTNsSLyXeNI33KT9O42omfVl8AFWQ\" --header=\"Cookie: AUTH_c786ms9a8pjpb9kja0mvr3d2mp7acbmq=16096367365252587562|1590137925000|22k7691c9fqbgqt2cc0ao2t19s0i48cq\" --header=\"Connection: keep-alive\" \"https://doc-0c-b0-docs.googleusercontent.com/docs/securesc/osqr15dsa8os0ct2afjfhurmcaglpf5g/rmttormm1uhmusjjjmbq0mge6mh4kv3e/1590137925000/00484516897554883881/16096367365252587562/1GU3LIJJ3zS1xLXXe-sdItSJHtI5txjVO?e=download&authuser=0\" -c -O 'preprocessed_data.csv'"
   ]
  },
  {
   "cell_type": "code",
   "execution_count": 0,
   "metadata": {
    "colab": {},
    "colab_type": "code",
    "id": "WDZFu6-usc3d"
   },
   "outputs": [],
   "source": [
    "import pandas\n",
    "data = pandas.read_csv('preprocessed_data.csv')\n",
    "data[\"project_title\"]=preprocessed_titles"
   ]
  },
  {
   "cell_type": "code",
   "execution_count": 12,
   "metadata": {
    "colab": {
     "base_uri": "https://localhost:8080/",
     "height": 202
    },
    "colab_type": "code",
    "id": "F-kg4mwyXBOO",
    "outputId": "f65e9bb1-0201-4a22-ca5f-711e6d9ca0b7"
   },
   "outputs": [
    {
     "data": {
      "text/html": [
       "<div>\n",
       "<style scoped>\n",
       "    .dataframe tbody tr th:only-of-type {\n",
       "        vertical-align: middle;\n",
       "    }\n",
       "\n",
       "    .dataframe tbody tr th {\n",
       "        vertical-align: top;\n",
       "    }\n",
       "\n",
       "    .dataframe thead th {\n",
       "        text-align: right;\n",
       "    }\n",
       "</style>\n",
       "<table border=\"1\" class=\"dataframe\">\n",
       "  <thead>\n",
       "    <tr style=\"text-align: right;\">\n",
       "      <th></th>\n",
       "      <th>school_state</th>\n",
       "      <th>teacher_prefix</th>\n",
       "      <th>project_grade_category</th>\n",
       "      <th>teacher_number_of_previously_posted_projects</th>\n",
       "      <th>clean_categories</th>\n",
       "      <th>clean_subcategories</th>\n",
       "      <th>essay</th>\n",
       "      <th>price</th>\n",
       "      <th>project_title</th>\n",
       "    </tr>\n",
       "  </thead>\n",
       "  <tbody>\n",
       "    <tr>\n",
       "      <th>0</th>\n",
       "      <td>ca</td>\n",
       "      <td>mrs</td>\n",
       "      <td>grades_prek_2</td>\n",
       "      <td>53</td>\n",
       "      <td>math_science</td>\n",
       "      <td>appliedsciences health_lifescience</td>\n",
       "      <td>i fortunate enough use fairy tale stem kits cl...</td>\n",
       "      <td>725.05</td>\n",
       "      <td>educational support english learners home</td>\n",
       "    </tr>\n",
       "  </tbody>\n",
       "</table>\n",
       "</div>"
      ],
      "text/plain": [
       "  school_state  ...                              project_title\n",
       "0           ca  ...  educational support english learners home\n",
       "\n",
       "[1 rows x 9 columns]"
      ]
     },
     "execution_count": 12,
     "metadata": {
      "tags": []
     },
     "output_type": "execute_result"
    }
   ],
   "source": [
    "y = data['project_is_approved'].values\n",
    "X = data.drop(['project_is_approved'], axis=1)\n",
    "X.head(1)"
   ]
  },
  {
   "cell_type": "markdown",
   "metadata": {
    "colab_type": "text",
    "id": "6lAMFKFcsc3j"
   },
   "source": [
    "<h2>1.2 Splitting data into Train and cross validation(or test): Stratified Sampling</h2>"
   ]
  },
  {
   "cell_type": "code",
   "execution_count": 0,
   "metadata": {
    "colab": {},
    "colab_type": "code",
    "id": "ODMijuuNsc3l"
   },
   "outputs": [],
   "source": [
    "# please write all the code with proper documentation, and proper titles for each subsection\n",
    "# go through documentations and blogs before you start coding\n",
    "# first figure out what to do, and then think about how to do.\n",
    "# reading and understanding error messages will be very much helpfull in debugging your code\n",
    "# when you plot any graph make sure you use \n",
    "    # a. Title, that describes your plot, this will be very helpful to the reader\n",
    "    # b. Legends if needed\n",
    "    # c. X-axis label\n",
    "    # d. Y-axis label\n",
    "from sklearn.model_selection import train_test_split\n",
    "X_train, X_test, y_train, y_test = train_test_split(X, y, test_size=0.33, stratify=y)"
   ]
  },
  {
   "cell_type": "markdown",
   "metadata": {
    "colab_type": "text",
    "id": "vsALgl5Asc3u"
   },
   "source": [
    "<h2>1.3 Make Data Model Ready: encoding eassay, and project_title</h2>"
   ]
  },
  {
   "cell_type": "code",
   "execution_count": 14,
   "metadata": {
    "colab": {
     "base_uri": "https://localhost:8080/",
     "height": 290
    },
    "colab_type": "code",
    "id": "SV_NWuCyXBOW",
    "outputId": "e9f15f56-5de1-4034-b524-ec55d345d5f9"
   },
   "outputs": [
    {
     "name": "stdout",
     "output_type": "stream",
     "text": [
      "(73196, 9) (73196,)\n",
      "(36052, 9) (36052,)\n",
      "====================================================================================================\n",
      "enconding of essay\n",
      "5000\n",
      "After vectorizations\n",
      "(73196, 5000) (73196,)\n",
      "(36052, 5000) (36052,)\n",
      "====================================================================================================\n",
      "====================================================================================================\n",
      "encoding of project title\n",
      "After vectorizations\n",
      "(73196, 4904) (73196,)\n",
      "(36052, 4904) (36052,)\n",
      "====================================================================================================\n"
     ]
    }
   ],
   "source": [
    "# please write all the code with proper documentation, and proper titles for each subsection\n",
    "# go through documentations and blogs before you start coding\n",
    "# first figure out what to do, and then think about how to do.\n",
    "# reading and understanding error messages will be very much helpfull in debugging your code\n",
    "# make sure you featurize train and test data separatly\n",
    "\n",
    "# when you plot any graph make sure you use \n",
    "    # a. Title, that describes your plot, this will be very helpful to the reader\n",
    "    # b. Legends if needed\n",
    "    # c. X-axis label\n",
    "    # d. Y-axis label\n",
    "print(X_train.shape, y_train.shape)\n",
    "print(X_test.shape, y_test.shape)\n",
    "\n",
    "print(\"=\"*100)\n",
    "\n",
    "print(\"enconding of essay\")\n",
    "vectorizer = TfidfVectorizer(min_df=10,ngram_range=(1,4), max_features=5000)\n",
    "vectorizer.fit(X_train[\"essay\"].values) # fit has to happen only on train data\n",
    "\n",
    "# we use the fitted CountVectorizer to convert the text to vector\n",
    "X_train_essay_tfidf = vectorizer.transform(X_train['essay'].values)\n",
    "X_test_essay_tfidf = vectorizer.transform(X_test['essay'].values)\n",
    "\n",
    "essay_vect_tfidf=vectorizer.get_feature_names()\n",
    "print(len(essay_vect_tfidf))\n",
    "print(\"After vectorizations\")\n",
    "print(X_train_essay_tfidf.shape, y_train.shape)\n",
    "print(X_test_essay_tfidf.shape, y_test.shape)\n",
    "print(\"=\"*100)\n",
    "\n",
    "print(\"=\"*100)\n",
    "print(\"encoding of project title\")\n",
    "vectorizer = TfidfVectorizer(min_df=10,ngram_range=(1,4))\n",
    "vectorizer.fit(X_train[\"project_title\"].values) # fit has to happen only on train data\n",
    "\n",
    "# we use the fitted CountVectorizer to convert the text to vector\n",
    "X_train_title_tfidf = vectorizer.transform(X_train[\"project_title\"].values)\n",
    "X_test_title_tfidf = vectorizer.transform(X_test['project_title'].values)\n",
    "\n",
    "title_vect_tfidf=vectorizer.get_feature_names()\n",
    "\n",
    "print(\"After vectorizations\")\n",
    "print(X_train_title_tfidf.shape, y_train.shape)\n",
    "print(X_test_title_tfidf.shape, y_test.shape)\n",
    "print(\"=\"*100)"
   ]
  },
  {
   "cell_type": "markdown",
   "metadata": {
    "colab_type": "text",
    "id": "hB0fp0lsXBOZ"
   },
   "source": [
    "<h2>tfidf w2v</h2>"
   ]
  },
  {
   "cell_type": "code",
   "execution_count": 29,
   "metadata": {
    "colab": {
     "base_uri": "https://localhost:8080/",
     "height": 237
    },
    "colab_type": "code",
    "id": "TWFbnRvDZCbq",
    "outputId": "5ad66f20-ee0e-4f9b-f2d9-1ff6faa9c633"
   },
   "outputs": [
    {
     "name": "stdout",
     "output_type": "stream",
     "text": [
      "--2020-05-22 09:13:57--  https://doc-0g-b0-docs.googleusercontent.com/docs/securesc/osqr15dsa8os0ct2afjfhurmcaglpf5g/74gpqdf29les98h3ud6k7tmq8nb74tk0/1590138750000/00484516897554883881/16096367365252587562/1zJbDcbwvM2ueudqJHPpOb3Z9V2QrGd2r?e=download&authuser=0&nonce=k1qu2jt4tmq48&user=16096367365252587562&hash=en2hhsmjq9oshmoi28j30tsfidcqpl9l\n",
      "Resolving doc-0g-b0-docs.googleusercontent.com (doc-0g-b0-docs.googleusercontent.com)... 64.233.187.132, 2404:6800:4008:c05::84\n",
      "Connecting to doc-0g-b0-docs.googleusercontent.com (doc-0g-b0-docs.googleusercontent.com)|64.233.187.132|:443... connected.\n",
      "HTTP request sent, awaiting response... 200 OK\n",
      "Length: unspecified [application/octet-stream]\n",
      "Saving to: ‘glove_vectors’\n",
      "\n",
      "glove_vectors           [      <=>           ] 121.60M  43.7MB/s    in 2.8s    \n",
      "\n",
      "2020-05-22 09:14:01 (43.7 MB/s) - ‘glove_vectors’ saved [127506004]\n",
      "\n"
     ]
    }
   ],
   "source": [
    "!wget --header=\"Host: doc-0g-b0-docs.googleusercontent.com\" --header=\"User-Agent: Mozilla/5.0 (Windows NT 10.0; Win64; x64) AppleWebKit/537.36 (KHTML, like Gecko) Chrome/81.0.4044.138 Safari/537.36\" --header=\"Accept: text/html,application/xhtml+xml,application/xml;q=0.9,image/webp,image/apng,*/*;q=0.8,application/signed-exchange;v=b3;q=0.9\" --header=\"Accept-Language: en-US,en;q=0.9\" --header=\"Referer: https://drive.google.com/drive/folders/1Z9rSTNsSLyXeNI33KT9O42omfVl8AFWQ\" --header=\"Cookie: AUTH_c786ms9a8pjpb9kja0mvr3d2mp7acbmq_nonce=k1qu2jt4tmq48\" --header=\"Connection: keep-alive\" \"https://doc-0g-b0-docs.googleusercontent.com/docs/securesc/osqr15dsa8os0ct2afjfhurmcaglpf5g/74gpqdf29les98h3ud6k7tmq8nb74tk0/1590138750000/00484516897554883881/16096367365252587562/1zJbDcbwvM2ueudqJHPpOb3Z9V2QrGd2r?e=download&authuser=0&nonce=k1qu2jt4tmq48&user=16096367365252587562&hash=en2hhsmjq9oshmoi28j30tsfidcqpl9l\" -c -O 'glove_vectors'"
   ]
  },
  {
   "cell_type": "code",
   "execution_count": 0,
   "metadata": {
    "colab": {},
    "colab_type": "code",
    "id": "NprUcnfdXBOa"
   },
   "outputs": [],
   "source": [
    "with open('glove_vectors', 'rb') as f:\n",
    "    model = pickle.load(f)\n",
    "    glove_words =  set(model.keys())"
   ]
  },
  {
   "cell_type": "code",
   "execution_count": 0,
   "metadata": {
    "colab": {},
    "colab_type": "code",
    "id": "Y_TqKpDGXBOc"
   },
   "outputs": [],
   "source": [
    "preprocessed_essays = data['essay'].values\n",
    "# S = [\"abc def pqr\", \"def def def abc\", \"pqr pqr def\"]\n",
    "tfidf_model = TfidfVectorizer(min_df=10,ngram_range=(1,4), max_features=5000)\n",
    "tfidf_model.fit(X_train[\"essay\"].values) # fit has to happen only on train data\n",
    "\n",
    "# we use the fitted CountVectorizer to convert the text to vector\n",
    "X_train_essay_w2v = tfidf_model.transform(X_train['essay'].values)\n",
    "X_test_essay_w2v = tfidf_model.transform(X_test['essay'].values)\n",
    "\n",
    "# we are converting a dictionary with word as a key, and the idf as a value\n",
    "dictionary = dict(zip(tfidf_model.get_feature_names(), list(tfidf_model.idf_)))\n",
    "tfidf_words = set(tfidf_model.get_feature_names())"
   ]
  },
  {
   "cell_type": "code",
   "execution_count": 32,
   "metadata": {
    "colab": {
     "base_uri": "https://localhost:8080/",
     "height": 72
    },
    "colab_type": "code",
    "id": "zy7B_mUlXBOf",
    "outputId": "29cb5de3-000f-4a9b-ec39-bffc361a02f0"
   },
   "outputs": [
    {
     "name": "stderr",
     "output_type": "stream",
     "text": [
      "100%|██████████| 73196/73196 [01:46<00:00, 687.70it/s]"
     ]
    },
    {
     "name": "stdout",
     "output_type": "stream",
     "text": [
      "73196\n",
      "300\n"
     ]
    },
    {
     "name": "stderr",
     "output_type": "stream",
     "text": [
      "\n"
     ]
    }
   ],
   "source": [
    "# average Word2Vec\n",
    "# compute average word2vec for each review.\n",
    "tfidf_w2v_essay = []; # the avg-w2v for each sentence/review is stored in this list\n",
    "for sentence in tqdm(X_train[\"essay\"].values): # for each review/sentence\n",
    "    vector = np.zeros(300) # as word vectors are of zero length\n",
    "    tf_idf_weight =0; # num of words with a valid vector in the sentence/review\n",
    "    for word in sentence.split(): # for each word in a review/sentence\n",
    "        if (word in glove_words) and (word in tfidf_words):\n",
    "            vec = model[word] # getting the vector for each word\n",
    "            # here we are multiplying idf value(dictionary[word]) and the tf value((sentence.count(word)/len(sentence.split())))\n",
    "            tf_idf = dictionary[word]*(sentence.count(word)/len(sentence.split())) # getting the tfidf value for each word\n",
    "            vector += (vec * tf_idf) # calculating tfidf weighted w2v\n",
    "            tf_idf_weight += tf_idf\n",
    "    if tf_idf_weight != 0:\n",
    "        vector /= tf_idf_weight\n",
    "    tfidf_w2v_essay.append(vector)\n",
    "\n",
    "print(len(tfidf_w2v_essay))\n",
    "print(len(tfidf_w2v_essay[0]))"
   ]
  },
  {
   "cell_type": "code",
   "execution_count": 33,
   "metadata": {
    "colab": {
     "base_uri": "https://localhost:8080/",
     "height": 72
    },
    "colab_type": "code",
    "id": "V2x__HsYXBOj",
    "outputId": "09e20c71-e738-4c5c-b1a0-266ba63f94da"
   },
   "outputs": [
    {
     "name": "stderr",
     "output_type": "stream",
     "text": [
      "100%|██████████| 36052/36052 [00:52<00:00, 684.94it/s]"
     ]
    },
    {
     "name": "stdout",
     "output_type": "stream",
     "text": [
      "36052\n",
      "300\n"
     ]
    },
    {
     "name": "stderr",
     "output_type": "stream",
     "text": [
      "\n"
     ]
    }
   ],
   "source": [
    "# average Word2Vec\n",
    "# compute average word2vec for each review.\n",
    "tfidf_w2v_essay_test = []; # the avg-w2v for each sentence/review is stored in this list\n",
    "for sentence in tqdm(X_test[\"essay\"].values): # for each review/sentence\n",
    "    vector = np.zeros(300) # as word vectors are of zero length\n",
    "    tf_idf_weight =0; # num of words with a valid vector in the sentence/review\n",
    "    for word in sentence.split(): # for each word in a review/sentence\n",
    "        if (word in glove_words) and (word in tfidf_words):\n",
    "            vec = model[word] # getting the vector for each word\n",
    "            # here we are multiplying idf value(dictionary[word]) and the tf value((sentence.count(word)/len(sentence.split())))\n",
    "            tf_idf = dictionary[word]*(sentence.count(word)/len(sentence.split())) # getting the tfidf value for each word\n",
    "            vector += (vec * tf_idf) # calculating tfidf weighted w2v\n",
    "            tf_idf_weight += tf_idf\n",
    "    if tf_idf_weight != 0:\n",
    "        vector /= tf_idf_weight\n",
    "    tfidf_w2v_essay_test.append(vector)\n",
    "\n",
    "print(len(tfidf_w2v_essay_test))\n",
    "print(len(tfidf_w2v_essay_test[0]))"
   ]
  },
  {
   "cell_type": "code",
   "execution_count": 0,
   "metadata": {
    "colab": {},
    "colab_type": "code",
    "id": "3VWvBtGpXBOl"
   },
   "outputs": [],
   "source": [
    "# S = [\"abc def pqr\", \"def def def abc\", \"pqr pqr def\"]\n",
    "tfidf_model = TfidfVectorizer(min_df=10,ngram_range=(1,4), max_features=5000)\n",
    "tfidf_model.fit(X_train[\"project_title\"].values) # fit has to happen only on train data\n",
    "\n",
    "# we use the fitted CountVectorizer to convert the text to vector\n",
    "X_train_title_w2v = tfidf_model.transform(X_train['project_title'].values)\n",
    "X_test_title_w2v = tfidf_model.transform(X_test['project_title'].values)\n",
    "\n",
    "# we are converting a dictionary with word as a key, and the idf as a value\n",
    "dictionary = dict(zip(tfidf_model.get_feature_names(), list(tfidf_model.idf_)))\n",
    "tfidf_words = set(tfidf_model.get_feature_names())"
   ]
  },
  {
   "cell_type": "code",
   "execution_count": 35,
   "metadata": {
    "colab": {
     "base_uri": "https://localhost:8080/",
     "height": 72
    },
    "colab_type": "code",
    "id": "EF0j-SnZXBOn",
    "outputId": "c63688ba-8534-4f98-9537-dff941ca1e92"
   },
   "outputs": [
    {
     "name": "stderr",
     "output_type": "stream",
     "text": [
      "100%|██████████| 73196/73196 [00:01<00:00, 47936.04it/s]"
     ]
    },
    {
     "name": "stdout",
     "output_type": "stream",
     "text": [
      "73196\n",
      "300\n"
     ]
    },
    {
     "name": "stderr",
     "output_type": "stream",
     "text": [
      "\n"
     ]
    }
   ],
   "source": [
    "# average Word2Vec\n",
    "# compute average word2vec for each review.\n",
    "tfidf_w2v_title = []; # the avg-w2v for each sentence/review is stored in this list\n",
    "for sentence in tqdm(X_train[\"project_title\"].values): # for each review/sentence\n",
    "    vector = np.zeros(300) # as word vectors are of zero length\n",
    "    tf_idf_weight =0; # num of words with a valid vector in the sentence/review\n",
    "    for word in sentence.split(): # for each word in a review/sentence\n",
    "        if (word in glove_words) and (word in tfidf_words):\n",
    "            vec = model[word] # getting the vector for each word\n",
    "            # here we are multiplying idf value(dictionary[word]) and the tf value((sentence.count(word)/len(sentence.split())))\n",
    "            tf_idf = dictionary[word]*(sentence.count(word)/len(sentence.split())) # getting the tfidf value for each word\n",
    "            vector += (vec * tf_idf) # calculating tfidf weighted w2v\n",
    "            tf_idf_weight += tf_idf\n",
    "    if tf_idf_weight != 0:\n",
    "        vector /= tf_idf_weight\n",
    "    tfidf_w2v_title.append(vector)\n",
    "\n",
    "print(len(tfidf_w2v_title))\n",
    "print(len(tfidf_w2v_title[0]))"
   ]
  },
  {
   "cell_type": "code",
   "execution_count": 36,
   "metadata": {
    "colab": {
     "base_uri": "https://localhost:8080/",
     "height": 72
    },
    "colab_type": "code",
    "id": "SUleP37tXBOr",
    "outputId": "7aafb838-0133-43be-b4f5-090219952fa3"
   },
   "outputs": [
    {
     "name": "stderr",
     "output_type": "stream",
     "text": [
      "100%|██████████| 36052/36052 [00:00<00:00, 45539.14it/s]"
     ]
    },
    {
     "name": "stdout",
     "output_type": "stream",
     "text": [
      "36052\n",
      "300\n"
     ]
    },
    {
     "name": "stderr",
     "output_type": "stream",
     "text": [
      "\n"
     ]
    }
   ],
   "source": [
    "# average Word2Vec\n",
    "# compute average word2vec for each review.\n",
    "tfidf_w2v_title_test = []; # the avg-w2v for each sentence/review is stored in this list\n",
    "for sentence in tqdm(X_test[\"project_title\"].values): # for each review/sentence\n",
    "    vector = np.zeros(300) # as word vectors are of zero length\n",
    "    tf_idf_weight =0; # num of words with a valid vector in the sentence/review\n",
    "    for word in sentence.split(): # for each word in a review/sentence\n",
    "        if (word in glove_words) and (word in tfidf_words):\n",
    "            vec = model[word] # getting the vector for each word\n",
    "            # here we are multiplying idf value(dictionary[word]) and the tf value((sentence.count(word)/len(sentence.split())))\n",
    "            tf_idf = dictionary[word]*(sentence.count(word)/len(sentence.split())) # getting the tfidf value for each word\n",
    "            vector += (vec * tf_idf) # calculating tfidf weighted w2v\n",
    "            tf_idf_weight += tf_idf\n",
    "    if tf_idf_weight != 0:\n",
    "        vector /= tf_idf_weight\n",
    "    tfidf_w2v_title_test.append(vector)\n",
    "\n",
    "print(len(tfidf_w2v_title_test))\n",
    "print(len(tfidf_w2v_title_test[0]))"
   ]
  },
  {
   "cell_type": "markdown",
   "metadata": {
    "colab_type": "text",
    "id": "RnaMUBS2XBOu"
   },
   "source": [
    "<h2>1.4 Make Data Model Ready: encoding numerical, categorical features</h2>"
   ]
  },
  {
   "cell_type": "markdown",
   "metadata": {
    "colab_type": "text",
    "id": "-lBGyYk2XBOv"
   },
   "source": [
    "<h2>ENCODING OF PRICE</h2>"
   ]
  },
  {
   "cell_type": "code",
   "execution_count": 37,
   "metadata": {
    "colab": {
     "base_uri": "https://localhost:8080/",
     "height": 108
    },
    "colab_type": "code",
    "id": "ptYXKCGfXBOw",
    "outputId": "addddf4e-d44d-4d3b-8082-26a2b2096e0a"
   },
   "outputs": [
    {
     "name": "stdout",
     "output_type": "stream",
     "text": [
      "[0.00042763]\n",
      "After vectorizations\n",
      "(73196, 1) (73196,)\n",
      "(36052, 1) (36052,)\n",
      "====================================================================================================\n"
     ]
    }
   ],
   "source": [
    "# please write all the code with proper documentation, and proper titles for each subsection\n",
    "# go through documentations and blogs before you start coding \n",
    "# first figure out what to do, and then think about how to do.\n",
    "# reading and understanding error messages will be very much helpfull in debugging your code\n",
    "# make sure you featurize train and test data separatly\n",
    "\n",
    "# when you plot any graph make sure you use \n",
    "    # a. Title, that describes your plot, this will be very helpful to the reader\n",
    "    # b. Legends if needed\n",
    "    # c. X-axis label\n",
    "    # d. Y-axis label\n",
    "from sklearn.preprocessing import Normalizer\n",
    "normalizer = Normalizer()\n",
    "\n",
    "normalizer.fit(X_train['price'].values.reshape(1,-1))\n",
    "\n",
    "X_train_price_nor = normalizer.transform(X_train['price'].values.reshape(1,-1))\n",
    "#X_cv_price_norm = normalizer.transform(X_cv['price'].values.reshape(-1,1))\n",
    "X_test_price_nor = normalizer.transform(X_test['price'].values.reshape(1,-1))\n",
    "X_train_price_norm=X_train_price_nor.reshape(X_train_price_nor.shape[1],1)\n",
    "X_test_price_norm=X_test_price_nor.reshape(X_test_price_nor.shape[1],1)\n",
    "print(X_train_price_norm[0])\n",
    "print(\"After vectorizations\")\n",
    "print(X_train_price_norm.shape, y_train.shape)\n",
    "#print(X_cv_price_norm.shape, y_cv.shape)\n",
    "print(X_test_price_norm.shape, y_test.shape)\n",
    "print(\"=\"*100)"
   ]
  },
  {
   "cell_type": "markdown",
   "metadata": {
    "colab_type": "text",
    "id": "zBlR0svJXBOy"
   },
   "source": [
    "<h2> encoding of previously posted projects</h2>"
   ]
  },
  {
   "cell_type": "code",
   "execution_count": 38,
   "metadata": {
    "colab": {
     "base_uri": "https://localhost:8080/",
     "height": 108
    },
    "colab_type": "code",
    "id": "O9IGVmU2XBOy",
    "outputId": "3e1c39b0-55ce-4afa-d48e-a8cdc9f8ff55"
   },
   "outputs": [
    {
     "name": "stdout",
     "output_type": "stream",
     "text": [
      "[0.00298385 0.00099462 0.01653551 ... 0.         0.00037298 0.00186491]\n",
      "After vectorizations\n",
      "(73196, 1) (73196,)\n",
      "(36052, 1) (36052,)\n",
      "====================================================================================================\n"
     ]
    }
   ],
   "source": [
    "\n",
    "from sklearn.preprocessing import Normalizer\n",
    "normalizer = Normalizer()\n",
    "\n",
    "normalizer.fit(X_train['teacher_number_of_previously_posted_projects'].values.reshape(1,-1))\n",
    "\n",
    "X_train_pp_project_norm = normalizer.transform(X_train['teacher_number_of_previously_posted_projects'].values.reshape(1,-1))\n",
    "#X_cv_pp_project_norm = normalizer.transform(X_cv['teacher_number_of_previously_posted_projects'].values.reshape(-1,1))\n",
    "X_test_pp_project_norm = normalizer.transform(X_test['teacher_number_of_previously_posted_projects'].values.reshape(1,-1))\n",
    "print(X_train_pp_project_norm[0])\n",
    "X_train_pp_project_norm=X_train_pp_project_norm.reshape(X_train_pp_project_norm.shape[1],1)\n",
    "X_test_pp_project_norm=X_test_pp_project_norm.reshape(X_test_pp_project_norm.shape[1],1)\n",
    "\n",
    "\n",
    "print(\"After vectorizations\")\n",
    "print(X_train_pp_project_norm.shape, y_train.shape)\n",
    "#print(X_cv_pp_project_norm.shape, y_cv.shape)\n",
    "print(X_test_pp_project_norm.shape, y_test.shape)\n",
    "print(\"=\"*100)"
   ]
  },
  {
   "cell_type": "code",
   "execution_count": 39,
   "metadata": {
    "colab": {
     "base_uri": "https://localhost:8080/",
     "height": 145
    },
    "colab_type": "code",
    "id": "YLIVFRVWrBY-",
    "outputId": "5f66a6e9-9b75-47d3-f342-566e492724c8"
   },
   "outputs": [
    {
     "name": "stdout",
     "output_type": "stream",
     "text": [
      "[[0.00298385]\n",
      " [0.00099462]\n",
      " [0.01653551]\n",
      " ...\n",
      " [0.        ]\n",
      " [0.00037298]\n",
      " [0.00186491]]\n"
     ]
    }
   ],
   "source": [
    "print(X_train_pp_project_norm)"
   ]
  },
  {
   "cell_type": "markdown",
   "metadata": {
    "colab_type": "text",
    "id": "9lXLfzV0XBO0"
   },
   "source": [
    "<h2>encoding of school state</h2>"
   ]
  },
  {
   "cell_type": "code",
   "execution_count": 0,
   "metadata": {
    "colab": {},
    "colab_type": "code",
    "id": "hB-Ja1dx9apf"
   },
   "outputs": [],
   "source": [
    "def response_table(V):\n",
    "  unique_categories=V.unique()\n",
    "  t=V\n",
    "  indices_train=t.keys()\n",
    "  encoded_variable=[]\n",
    "  for category in unique_categories:\n",
    "    c=0\n",
    "    p=0\n",
    "    n=0\n",
    "    temp=[]\n",
    "    for i in indices_train:\n",
    "      if category==V[i]:\n",
    "        c=c+1\n",
    "        if data[\"project_is_approved\"][i]==0:\n",
    "          n=n+1\n",
    "        else:\n",
    "          p=p+1\n",
    "    temp.append(n/c)\n",
    "    temp.append(p/c)\n",
    "    encoded_variable.append(temp)\n",
    "  return encoded_variable"
   ]
  },
  {
   "cell_type": "code",
   "execution_count": 0,
   "metadata": {
    "colab": {},
    "colab_type": "code",
    "id": "g41s2Sji__3t"
   },
   "outputs": [],
   "source": [
    "def response_coding(V_tr,V_te):\n",
    "  encoded_variable_train=[]\n",
    "  encoded_variable_test=[]\n",
    "  encoded_variable=response_table(V_tr)\n",
    "  unique_categories=V_tr.unique()\n",
    "  for category in V_tr:\n",
    "      k=0\n",
    "      for j in unique_categories:\n",
    "          if category==j:\n",
    "              encoded_variable_train.append(encoded_variable[k])\n",
    "          k=k+1\n",
    "  for category in V_te:\n",
    "      k=0\n",
    "      for j in unique_categories:\n",
    "          if category==j:\n",
    "              encoded_variable_test.append(encoded_variable[k])\n",
    "          k=k+1\n",
    "      if category not in unique_categories:\n",
    "          encoded_variable_test.append([0.5,0.5])\n",
    "  return encoded_variable_train,encoded_variable_test"
   ]
  },
  {
   "cell_type": "code",
   "execution_count": 21,
   "metadata": {
    "colab": {
     "base_uri": "https://localhost:8080/",
     "height": 54
    },
    "colab_type": "code",
    "id": "_1E9OJa_CPuw",
    "outputId": "bf12d925-5af4-454c-8e79-2db1ae4342f8"
   },
   "outputs": [
    {
     "name": "stdout",
     "output_type": "stream",
     "text": [
      "73196\n",
      "36052\n"
     ]
    }
   ],
   "source": [
    "encoded_state_train,encoded_state_test=response_coding(X_train[\"school_state\"],X_test[\"school_state\"])\n",
    "print(len(encoded_state_train))\n",
    "print(len(encoded_state_test))"
   ]
  },
  {
   "cell_type": "markdown",
   "metadata": {
    "colab_type": "text",
    "id": "JHmbmBwHXBO6"
   },
   "source": [
    "<h2>encoding of teacher prefix</h2>"
   ]
  },
  {
   "cell_type": "code",
   "execution_count": 22,
   "metadata": {
    "colab": {
     "base_uri": "https://localhost:8080/",
     "height": 54
    },
    "colab_type": "code",
    "id": "qLBMb0tsXBO9",
    "outputId": "b6dc31eb-de9c-47e2-ede4-63f47f3dd2fc"
   },
   "outputs": [
    {
     "name": "stdout",
     "output_type": "stream",
     "text": [
      "73196\n",
      "36052\n"
     ]
    }
   ],
   "source": [
    "encoded_prefix_train,encoded_prefix_test=response_coding(X_train[\"teacher_prefix\"],X_test[\"teacher_prefix\"])\n",
    "print(len(encoded_prefix_train))\n",
    "print(len(encoded_prefix_test))"
   ]
  },
  {
   "cell_type": "markdown",
   "metadata": {
    "colab_type": "text",
    "id": "dYAZXy_0XBO_"
   },
   "source": [
    "<h2>encoding of project grade category</h2>"
   ]
  },
  {
   "cell_type": "code",
   "execution_count": 23,
   "metadata": {
    "colab": {
     "base_uri": "https://localhost:8080/",
     "height": 54
    },
    "colab_type": "code",
    "id": "2U0DoaksXBPD",
    "outputId": "e791eec6-6a70-4dbf-cba6-a4442477ea10"
   },
   "outputs": [
    {
     "name": "stdout",
     "output_type": "stream",
     "text": [
      "73196\n",
      "36052\n"
     ]
    }
   ],
   "source": [
    "encoded_project_grade_train,encoded_project_grade_test=response_coding(X_train[\"project_grade_category\"],X_test[\"project_grade_category\"])\n",
    "print(len(encoded_project_grade_train))\n",
    "print(len(encoded_project_grade_test))\n"
   ]
  },
  {
   "cell_type": "markdown",
   "metadata": {
    "colab_type": "text",
    "id": "Ep75EBNvXBPH"
   },
   "source": [
    "<h2>encoding clean categories</h2>"
   ]
  },
  {
   "cell_type": "code",
   "execution_count": 24,
   "metadata": {
    "colab": {
     "base_uri": "https://localhost:8080/",
     "height": 54
    },
    "colab_type": "code",
    "id": "44-MeiIEXBPL",
    "outputId": "09a11497-3487-40f3-a3d0-779a7f910e7b"
   },
   "outputs": [
    {
     "name": "stdout",
     "output_type": "stream",
     "text": [
      "73196\n",
      "36052\n"
     ]
    }
   ],
   "source": [
    "encoded_clean_categories_train,encoded_clean_categories_test=response_coding(X_train[\"clean_categories\"],X_test[\"clean_categories\"])\n",
    "print(len(encoded_clean_categories_train))\n",
    "print(len(encoded_clean_categories_test))\n"
   ]
  },
  {
   "cell_type": "markdown",
   "metadata": {
    "colab_type": "text",
    "id": "KbKhkXAaXBPO"
   },
   "source": [
    "<h2>encoding of clean subcategories</h2>"
   ]
  },
  {
   "cell_type": "code",
   "execution_count": 25,
   "metadata": {
    "colab": {
     "base_uri": "https://localhost:8080/",
     "height": 54
    },
    "colab_type": "code",
    "id": "v_LxhMnSXBPS",
    "outputId": "742efcea-33b0-4573-c624-ed41dfa80c21"
   },
   "outputs": [
    {
     "name": "stdout",
     "output_type": "stream",
     "text": [
      "73196\n",
      "36052\n"
     ]
    }
   ],
   "source": [
    "encoded_clean_subcategories_train,encoded_clean_subcategories_test=response_coding(X_train[\"clean_subcategories\"],X_test[\"clean_subcategories\"])\n",
    "print(len(encoded_clean_subcategories_train))\n",
    "print(len(encoded_clean_subcategories_test))\n"
   ]
  },
  {
   "cell_type": "code",
   "execution_count": 26,
   "metadata": {
    "colab": {
     "base_uri": "https://localhost:8080/",
     "height": 35
    },
    "colab_type": "code",
    "id": "0XH24Sr5XBPU",
    "outputId": "b623372a-a2a9-4375-aea0-b10e5e1a1d36"
   },
   "outputs": [
    {
     "data": {
      "text/plain": [
       "73196"
      ]
     },
     "execution_count": 26,
     "metadata": {
      "tags": []
     },
     "output_type": "execute_result"
    }
   ],
   "source": [
    "nltk_feature_train=[]\n",
    "for i in X_train[\"essay\"]:\n",
    "    ss = sid.polarity_scores(i)\n",
    "    t=[]\n",
    "    for k in ss:\n",
    "        t.append(ss[k])\n",
    "    nltk_feature_train.append(t)\n",
    "len(nltk_feature_train)"
   ]
  },
  {
   "cell_type": "code",
   "execution_count": 27,
   "metadata": {
    "colab": {
     "base_uri": "https://localhost:8080/",
     "height": 35
    },
    "colab_type": "code",
    "id": "GMDPV9puXBPX",
    "outputId": "a703d854-3eff-4b63-d800-2f3951ef0c22"
   },
   "outputs": [
    {
     "data": {
      "text/plain": [
       "36052"
      ]
     },
     "execution_count": 27,
     "metadata": {
      "tags": []
     },
     "output_type": "execute_result"
    }
   ],
   "source": [
    "nltk_feature_test=[]\n",
    "for i in X_test[\"essay\"]:\n",
    "    ss = sid.polarity_scores(i)\n",
    "    t=[]\n",
    "    for k in ss:\n",
    "        t.append(ss[k])\n",
    "    nltk_feature_test.append(t)\n",
    "len(nltk_feature_test)"
   ]
  },
  {
   "cell_type": "markdown",
   "metadata": {
    "colab_type": "text",
    "id": "SRJ3x6jXXBPZ"
   },
   "source": [
    "<h2>concatenating feature set-1</h2>"
   ]
  },
  {
   "cell_type": "code",
   "execution_count": 35,
   "metadata": {
    "colab": {
     "base_uri": "https://localhost:8080/",
     "height": 90
    },
    "colab_type": "code",
    "id": "NEWkY9K-XBPa",
    "outputId": "c1662530-8894-4da4-95ce-cd8417ed5633"
   },
   "outputs": [
    {
     "name": "stdout",
     "output_type": "stream",
     "text": [
      "Final Data matrix\n",
      "(73196, 9877) (73196,)\n",
      "(36052, 9877) (36052,)\n",
      "====================================================================================================\n"
     ]
    }
   ],
   "source": [
    "from scipy.sparse import hstack\n",
    "X_tr1 = hstack((X_train_essay_tfidf,X_train_title_tfidf,encoded_clean_subcategories_train,encoded_clean_categories_train,encoded_state_train,encoded_prefix_train, encoded_project_grade_train, X_train_price_norm,X_train_pp_project_norm,nltk_feature_train)).tocsr()\n",
    "#X_cr2 = hstack((X_cv_essay_tfidf,X_cv_title_tfidf,X_cv_subcategory_bow,X_cv_category_bow, X_cv_state_ohe, X_cv_teacher_ohe, X_cv_grade_ohe, X_cv_price_norm,X_cv_pp_project_norm)).tocsr()\n",
    "X_te1 = hstack((X_test_essay_tfidf,X_test_title_tfidf,encoded_clean_subcategories_test,encoded_clean_categories_test, encoded_state_test, encoded_prefix_test, encoded_project_grade_test, X_test_price_norm,X_test_pp_project_norm,nltk_feature_test)).tocsr()\n",
    "\n",
    "print(\"Final Data matrix\")\n",
    "print(X_tr1.shape, y_train.shape)\n",
    "#print(X_cr2.shape, y_cv.shape)\n",
    "print(X_te1.shape, y_test.shape)\n",
    "print(\"=\"*100)"
   ]
  },
  {
   "cell_type": "markdown",
   "metadata": {
    "colab_type": "text",
    "id": "vcs8xFvkXBPc"
   },
   "source": [
    "<h2>concatenating feature set-2</h2>"
   ]
  },
  {
   "cell_type": "code",
   "execution_count": 40,
   "metadata": {
    "colab": {
     "base_uri": "https://localhost:8080/",
     "height": 90
    },
    "colab_type": "code",
    "id": "tCwxdNyGXBPd",
    "outputId": "98788be6-79e0-42a7-8ce1-bb347c68de53"
   },
   "outputs": [
    {
     "name": "stdout",
     "output_type": "stream",
     "text": [
      "Final Data matrix\n",
      "(73196, 612) (73196,)\n",
      "(36052, 612) (36052,)\n",
      "====================================================================================================\n"
     ]
    }
   ],
   "source": [
    "from scipy.sparse import hstack\n",
    "from scipy import sparse\n",
    "a=np.asarray(tfidf_w2v_essay)\n",
    "b=np.asarray(tfidf_w2v_essay_test)\n",
    "c=np.asarray(tfidf_w2v_title)\n",
    "d=np.asarray(tfidf_w2v_title_test)\n",
    "w2v_essay_train=sparse.csr_matrix(a)\n",
    "w2v_essay_test=sparse.csr_matrix(b)\n",
    "w2v_title_train=sparse.csr_matrix(c)\n",
    "w2v_title_test=sparse.csr_matrix(d)\n",
    "X_tr2 = hstack((w2v_essay_train,w2v_title_train,encoded_clean_subcategories_train,encoded_clean_categories_train,encoded_state_train,encoded_prefix_train, encoded_project_grade_train,X_train_price_norm,X_train_pp_project_norm)).tocsr()\n",
    "#X_cr2 = hstack((X_cv_essay_tfidf,X_cv_title_tfidf,X_cv_subcategory_bow,X_cv_category_bow, X_cv_state_ohe, X_cv_teacher_ohe, X_cv_grade_ohe, X_cv_price_norm,X_cv_pp_project_norm)).tocsr()\n",
    "X_te2 = hstack((w2v_essay_test,w2v_title_test,encoded_clean_subcategories_test,encoded_clean_categories_test, encoded_state_test, encoded_prefix_test, encoded_project_grade_test, X_test_price_norm,X_test_pp_project_norm)).tocsr()\n",
    "\n",
    "print(\"Final Data matrix\")\n",
    "print(X_tr2.shape, y_train.shape)\n",
    "#print(X_cr2.shape, y_cv.shape)\n",
    "print(X_te2.shape, y_test.shape)\n",
    "print(\"=\"*100)\n"
   ]
  },
  {
   "cell_type": "markdown",
   "metadata": {
    "colab_type": "text",
    "id": "I5wDFj17sc3-"
   },
   "source": [
    "<h2>1.5 Appling Models on different kind of featurization as mentioned in the instructions</h2>"
   ]
  },
  {
   "cell_type": "markdown",
   "metadata": {
    "colab_type": "text",
    "id": "O5tWox1jsc3_"
   },
   "source": [
    "<br>Apply GBDT on different kind of featurization as mentioned in the instructions\n",
    "<br> For Every model that you work on make sure you do the step 2 and step 3 of instrucations"
   ]
  },
  {
   "cell_type": "code",
   "execution_count": 49,
   "metadata": {
    "colab": {
     "base_uri": "https://localhost:8080/",
     "height": 435
    },
    "colab_type": "code",
    "id": "rM7FIqF0W8VQ",
    "outputId": "5bd83aa7-a580-41d6-fd67-38725c0bcd41"
   },
   "outputs": [
    {
     "data": {
      "text/plain": [
       "{'base_score': 0.5,\n",
       " 'booster': 'gbtree',\n",
       " 'colsample_bylevel': 1,\n",
       " 'colsample_bynode': 1,\n",
       " 'colsample_bytree': 1,\n",
       " 'gamma': 0,\n",
       " 'learning_rate': 0.1,\n",
       " 'max_delta_step': 0,\n",
       " 'max_depth': 7,\n",
       " 'min_child_weight': 1,\n",
       " 'missing': None,\n",
       " 'n_estimators': 200,\n",
       " 'n_jobs': 1,\n",
       " 'nthread': None,\n",
       " 'objective': 'binary:logistic',\n",
       " 'random_state': 0,\n",
       " 'reg_alpha': 0,\n",
       " 'reg_lambda': 1,\n",
       " 'scale_pos_weight': 1,\n",
       " 'seed': None,\n",
       " 'silent': None,\n",
       " 'subsample': 1,\n",
       " 'verbosity': 1}"
      ]
     },
     "execution_count": 49,
     "metadata": {
      "tags": []
     },
     "output_type": "execute_result"
    }
   ],
   "source": [
    "from sklearn.model_selection import GridSearchCV\n",
    "from xgboost import XGBClassifier\n",
    "from sklearn.metrics import roc_auc_score\n",
    "#dtrain1=xgb.DMatrix(X_tr1,y_train)\n",
    "gbdt=XGBClassifier()\n",
    "parameters ={\"max_depth\":[3,4,5,6,7],\"n_estimators\":[10,50,100,150,200]}\n",
    "clf1 = GridSearchCV(gbdt, parameters, cv=4,n_jobs=-1,scoring='roc_auc',return_train_score=True)\n",
    "clf1.fit(X_tr1,y_train)\n",
    "clf1.best_estimator_.get_params()"
   ]
  },
  {
   "cell_type": "code",
   "execution_count": 56,
   "metadata": {
    "colab": {
     "base_uri": "https://localhost:8080/",
     "height": 226
    },
    "colab_type": "code",
    "id": "Z2k3bHzY-UWl",
    "outputId": "bcc36d49-8f37-4894-afd1-9964c676d4c1"
   },
   "outputs": [
    {
     "data": {
      "image/png": "[encoded data removed]",
      "text/plain": [
       "<Figure size 1080x216 with 4 Axes>"
      ]
     },
     "metadata": {
      "needs_background": "light",
      "tags": []
     },
     "output_type": "display_data"
    }
   ],
   "source": [
    "import pandas as pd\n",
    "import seaborn as sn \n",
    "fig=plt.figure(figsize=(15,3))\n",
    "a=fig.add_subplot(121)\n",
    "result=pd.DataFrame.from_dict(clf1.cv_results_)\n",
    "max_score=result.groupby([\"param_n_estimators\",\"param_max_depth\"]).max()\n",
    "max_score=max_score.unstack()[[\"mean_test_score\",\"mean_train_score\"]]\n",
    "a=sn.heatmap(max_score.mean_train_score,annot=True,fmt=\".4g\")\n",
    "b=fig.add_subplot(122)\n",
    "a=sn.heatmap(max_score.mean_test_score,annot=True,fmt=\".4g\")"
   ]
  },
  {
   "cell_type": "code",
   "execution_count": 0,
   "metadata": {
    "colab": {},
    "colab_type": "code",
    "id": "nnGJYtsvXBPl"
   },
   "outputs": [],
   "source": [
    "def batch_predict(clf, data):\n",
    "    # roc_auc_score(y_true, y_score) the 2nd parameter should be probability estimates of the positive class\n",
    "    # not the predicted outputs\n",
    "\n",
    "    y_data_pred = []\n",
    "    tr_loop = data.shape[0] - data.shape[0]%1000\n",
    "    # consider you X_tr shape is 49041, then your tr_loop will be 49041 - 49041%1000 = 49000\n",
    "    # in this for loop we will iterate unti the last 1000 multiplier\n",
    "    for i in range(0, tr_loop, 1000):\n",
    "        y_data_pred.extend(clf.predict_proba(data[i:i+1000])[:,1])\n",
    "    # we will be predicting for the last data points\n",
    "    if data.shape[0]%1000 !=0:\n",
    "        y_data_pred.extend(clf.predict_proba(data[tr_loop:])[:,1])\n",
    "    \n",
    "    return y_data_pred"
   ]
  },
  {
   "cell_type": "code",
   "execution_count": 39,
   "metadata": {
    "colab": {
     "base_uri": "https://localhost:8080/",
     "height": 295
    },
    "colab_type": "code",
    "id": "h1Bbs_k7XBPo",
    "outputId": "f78658dc-7942-42d4-8cee-7223c14e5d0c"
   },
   "outputs": [
    {
     "data": {
      "image/png": "[encoded data removed]",
      "text/plain": [
       "<Figure size 432x288 with 1 Axes>"
      ]
     },
     "metadata": {
      "needs_background": "light",
      "tags": []
     },
     "output_type": "display_data"
    }
   ],
   "source": [
    "from sklearn.metrics import roc_curve, auc\n",
    "from xgboost import XGBClassifier\n",
    "gbdt1 = XGBClassifier(max_depth=3,n_estimators=200)\n",
    "gbdt1.fit(X_tr1, y_train)\n",
    "# roc_auc_score(y_true, y_score) the 2nd parameter should be probability estimates of the positive class\n",
    "# not the predicted outputs\n",
    "\n",
    "y_train_pred1 = batch_predict(gbdt1, X_tr1)    \n",
    "y_test_pred1= batch_predict(gbdt1, X_te1)\n",
    "\n",
    "train_fpr, train_tpr, tr_thresholds = roc_curve(y_train, y_train_pred1)\n",
    "test_fpr, test_tpr, te_thresholds = roc_curve(y_test, y_test_pred1)\n",
    "\n",
    "plt.plot(train_fpr, train_tpr, label=\"train AUC =\"+str(auc(train_fpr, train_tpr)))\n",
    "plt.plot(test_fpr, test_tpr, label=\"test AUC =\"+str(auc(test_fpr, test_tpr)))\n",
    "plt.legend()\n",
    "plt.xlabel(\"fpr value\")\n",
    "plt.ylabel(\"trp value\")\n",
    "plt.title(\"auc curve\")\n",
    "plt.grid()\n",
    "plt.show()"
   ]
  },
  {
   "cell_type": "code",
   "execution_count": 0,
   "metadata": {
    "colab": {},
    "colab_type": "code",
    "id": "fKLkQsQIXBPr"
   },
   "outputs": [],
   "source": [
    "def find_best_threshold(threshould, fpr, tpr):\n",
    "    t = threshould[np.argmax(tpr*(1-fpr))]\n",
    "    # (tpr*(1-fpr)) will be maximum if your fpr is very low and tpr is very high\n",
    "    #print(\"the maximum value of tpr*(1-fpr)\", max(tpr*(1-fpr)), \"for threshold\", np.round(t,3))\n",
    "    return t\n",
    "\n",
    "def predict_with_best_t(proba, threshould):\n",
    "    predictions = []\n",
    "    for i in proba:\n",
    "        if i>=threshould:\n",
    "            predictions.append(1)\n",
    "        else:\n",
    "            predictions.append(0)\n",
    "    return predictions"
   ]
  },
  {
   "cell_type": "code",
   "execution_count": 47,
   "metadata": {
    "colab": {
     "base_uri": "https://localhost:8080/",
     "height": 259
    },
    "colab_type": "code",
    "id": "7k02o75yXBPt",
    "outputId": "3f55e7ac-306e-485a-f22c-20975d2b3dc8"
   },
   "outputs": [
    {
     "data": {
      "text/plain": [
       "Text(570.5454545454544, 0.5, 'actual')"
      ]
     },
     "execution_count": 47,
     "metadata": {
      "tags": []
     },
     "output_type": "execute_result"
    },
    {
     "data": {
      "image/png": "[encoded data removed]",
      "text/plain": [
       "<Figure size 1080x216 with 4 Axes>"
      ]
     },
     "metadata": {
      "needs_background": "light",
      "tags": []
     },
     "output_type": "display_data"
    }
   ],
   "source": [
    "import seaborn as sn \n",
    "from sklearn.metrics import confusion_matrix\n",
    "best_t = find_best_threshold(tr_thresholds, train_fpr, train_tpr)\n",
    "k=confusion_matrix(y_train, predict_with_best_t(y_train_pred1, best_t))\n",
    "fig=plt.figure(figsize=(15,3))\n",
    "a=fig.add_subplot(121)\n",
    "a=sn.heatmap(k,annot=True,yticklabels=[0,1],xticklabels=[0,1],fmt=\"g\")\n",
    "a.set_title(\"train confusion matrix\")\n",
    "a.set_xlabel(\"predicted\")\n",
    "a.set_ylabel(\"actual\")\n",
    "b=fig.add_subplot(122)\n",
    "y_pred=predict_with_best_t(y_test_pred1, best_t)\n",
    "c_test=confusion_matrix(y_test, y_pred)\n",
    "b=sn.heatmap(c_test,annot=True,yticklabels=[0,1],xticklabels=[0,1],fmt=\"g\")\n",
    "b.set_title(\"test confusion matrix\")\n",
    "b.set_xlabel(\"predicted\")\n",
    "b.set_ylabel(\"actual\")"
   ]
  },
  {
   "cell_type": "markdown",
   "metadata": {
    "colab_type": "text",
    "id": "V-XkBb4GXBPx"
   },
   "source": [
    "<h1>GBDT on feature set-2</h1>"
   ]
  },
  {
   "cell_type": "code",
   "execution_count": 39,
   "metadata": {
    "colab": {
     "base_uri": "https://localhost:8080/",
     "height": 435
    },
    "colab_type": "code",
    "id": "0-5RLb09XBPx",
    "outputId": "44f9f947-4891-4c7b-d5ab-6567b1b2a934"
   },
   "outputs": [
    {
     "data": {
      "text/plain": [
       "{'base_score': 0.5,\n",
       " 'booster': 'gbtree',\n",
       " 'colsample_bylevel': 1,\n",
       " 'colsample_bynode': 1,\n",
       " 'colsample_bytree': 1,\n",
       " 'gamma': 0,\n",
       " 'learning_rate': 0.1,\n",
       " 'max_delta_step': 0,\n",
       " 'max_depth': 3,\n",
       " 'min_child_weight': 1,\n",
       " 'missing': None,\n",
       " 'n_estimators': 200,\n",
       " 'n_jobs': 1,\n",
       " 'nthread': None,\n",
       " 'objective': 'binary:logistic',\n",
       " 'random_state': 0,\n",
       " 'reg_alpha': 0,\n",
       " 'reg_lambda': 1,\n",
       " 'scale_pos_weight': 1,\n",
       " 'seed': None,\n",
       " 'silent': None,\n",
       " 'subsample': 1,\n",
       " 'verbosity': 1}"
      ]
     },
     "execution_count": 39,
     "metadata": {
      "tags": []
     },
     "output_type": "execute_result"
    }
   ],
   "source": [
    "from sklearn.model_selection import GridSearchCV\n",
    "from xgboost import XGBClassifier\n",
    "from sklearn.metrics import roc_auc_score\n",
    "#dtrain1=xgb.DMatrix(X_tr1,y_train)\n",
    "Gbdt=XGBClassifier()\n",
    "parameters ={\"max_depth\":[3,4,5,6],\"n_estimators\":[50,100,150,200]}\n",
    "clf2 = GridSearchCV(Gbdt, parameters, cv=4,n_jobs=-1,scoring='roc_auc',return_train_score=True)\n",
    "clf2.fit(X_tr2,y_train)\n",
    "clf2.best_estimator_.get_params()"
   ]
  },
  {
   "cell_type": "code",
   "execution_count": 41,
   "metadata": {
    "colab": {
     "base_uri": "https://localhost:8080/",
     "height": 242
    },
    "colab_type": "code",
    "id": "MZTwII2vM01Q",
    "outputId": "837d4ce6-dd79-4815-a415-f14032e2fe4f"
   },
   "outputs": [
    {
     "data": {
      "image/png": "[encoded data removed]",
      "text/plain": [
       "<Figure size 1080x216 with 4 Axes>"
      ]
     },
     "metadata": {
      "needs_background": "light",
      "tags": []
     },
     "output_type": "display_data"
    }
   ],
   "source": [
    "import pandas as pd\n",
    "import seaborn as sn \n",
    "fig=plt.figure(figsize=(15,3))\n",
    "a=fig.add_subplot(121)\n",
    "a.set_title(\"train auc\")\n",
    "result=pd.DataFrame.from_dict(clf2.cv_results_)\n",
    "max_score=result.groupby([\"param_n_estimators\",\"param_max_depth\"]).max()\n",
    "max_score=max_score.unstack()[[\"mean_test_score\",\"mean_train_score\"]]\n",
    "a=sn.heatmap(max_score.mean_train_score,annot=True,fmt=\".4g\")\n",
    "b=fig.add_subplot(122)\n",
    "b.set_title(\"test auc\")\n",
    "a=sn.heatmap(max_score.mean_test_score,annot=True,fmt=\".4g\")"
   ]
  },
  {
   "cell_type": "code",
   "execution_count": 43,
   "metadata": {
    "colab": {
     "base_uri": "https://localhost:8080/",
     "height": 295
    },
    "colab_type": "code",
    "id": "mD7Rp5ZaXBP1",
    "outputId": "54b8020b-30dd-48dc-f9d0-97e958536949"
   },
   "outputs": [
    {
     "data": {
      "image/png": "[encoded data removed]",
      "text/plain": [
       "<Figure size 432x288 with 1 Axes>"
      ]
     },
     "metadata": {
      "needs_background": "light",
      "tags": []
     },
     "output_type": "display_data"
    }
   ],
   "source": [
    "from sklearn.metrics import roc_curve, auc\n",
    "from xgboost import XGBClassifier\n",
    "from sklearn.metrics import roc_auc_score\n",
    "\n",
    "gbdt2 = XGBClassifier(max_depth=3,min_samples_split=200)\n",
    "gbdt2.fit(X_tr2, y_train)\n",
    "# roc_auc_score(y_true, y_score) the 2nd parameter should be probability estimates of the positive class\n",
    "# not the predicted outputs\n",
    "\n",
    "y_train_pred_2 = batch_predict(gbdt2, X_tr2)    \n",
    "y_test_pred_2 = batch_predict(gbdt2, X_te2)\n",
    "\n",
    "train_fpr, train_tpr, tr_thresholds = roc_curve(y_train, y_train_pred_2)\n",
    "test_fpr, test_tpr, te_thresholds = roc_curve(y_test, y_test_pred_2)\n",
    "\n",
    "plt.plot(train_fpr, train_tpr, label=\"train AUC =\"+str(auc(train_fpr, train_tpr)))\n",
    "plt.plot(test_fpr, test_tpr, label=\"test AUC =\"+str(auc(test_fpr, test_tpr)))\n",
    "plt.legend()\n",
    "plt.xlabel(\"fpr value\")\n",
    "plt.ylabel(\"trp value\")\n",
    "plt.title(\"auc curve\")\n",
    "plt.grid()\n",
    "plt.show()"
   ]
  },
  {
   "cell_type": "code",
   "execution_count": 45,
   "metadata": {
    "colab": {
     "base_uri": "https://localhost:8080/",
     "height": 259
    },
    "colab_type": "code",
    "id": "yZAu62seXBP3",
    "outputId": "d8974fae-7a2e-4991-a616-819962974a5c"
   },
   "outputs": [
    {
     "data": {
      "text/plain": [
       "Text(570.5454545454544, 0.5, 'actual')"
      ]
     },
     "execution_count": 45,
     "metadata": {
      "tags": []
     },
     "output_type": "execute_result"
    },
    {
     "data": {
      "image/png": "[encoded data removed]",
      "text/plain": [
       "<Figure size 1080x216 with 4 Axes>"
      ]
     },
     "metadata": {
      "needs_background": "light",
      "tags": []
     },
     "output_type": "display_data"
    }
   ],
   "source": [
    "import seaborn as sn \n",
    "from sklearn.metrics import confusion_matrix\n",
    "best_t = find_best_threshold(tr_thresholds, train_fpr, train_tpr)\n",
    "k=confusion_matrix(y_train, predict_with_best_t(y_train_pred_2, best_t))\n",
    "fig=plt.figure(figsize=(15,3))\n",
    "a=fig.add_subplot(121)\n",
    "a=sn.heatmap(k,annot=True,yticklabels=[0,1],xticklabels=[0,1],fmt=\"g\")\n",
    "a.set_title(\"train confusion matrix\")\n",
    "a.set_xlabel(\"predicted\")\n",
    "a.set_ylabel(\"actual\")\n",
    "b=fig.add_subplot(122)\n",
    "y_pred=predict_with_best_t(y_test_pred_2, best_t)\n",
    "c_test=confusion_matrix(y_test, y_pred)\n",
    "b=sn.heatmap(c_test,annot=True,yticklabels=[0,1],xticklabels=[0,1],fmt=\"g\")\n",
    "b.set_title(\"test confusion matrix\")\n",
    "b.set_xlabel(\"predicted\")\n",
    "b.set_ylabel(\"actual\")"
   ]
  },
  {
   "cell_type": "markdown",
   "metadata": {
    "colab_type": "text",
    "id": "YhFN-lDWsc4G"
   },
   "source": [
    "<h1>3. Summary</h1>\n",
    "\n",
    "<br> as mentioned in the step 4 of instructions"
   ]
  },
  {
   "cell_type": "code",
   "execution_count": 47,
   "metadata": {
    "colab": {
     "base_uri": "https://localhost:8080/",
     "height": 126
    },
    "colab_type": "code",
    "id": "SLsw_s6WXBP6",
    "outputId": "34e7ab6e-38d0-41ee-9de9-c3569616f589"
   },
   "outputs": [
    {
     "name": "stdout",
     "output_type": "stream",
     "text": [
      "+------------+-------+-----------+-------------+----------+\n",
      "| vectorizer | model | max depth | #estimators | test AUC |\n",
      "+------------+-------+-----------+-------------+----------+\n",
      "|   tfidf    |  GBDT |     3     |     200     |  0.716   |\n",
      "| tfidf w2v  |  GBDT |     3     |     200     |  0.703   |\n",
      "+------------+-------+-----------+-------------+----------+\n"
     ]
    }
   ],
   "source": [
    "from prettytable import PrettyTable \n",
    "t=PrettyTable()\n",
    "t.field_names=[\"vectorizer\",\"model\",\"max depth\",\"#estimators\",\"test AUC\"]\n",
    "t.add_row([\"tfidf\",\"GBDT\",3,200,0.716])\n",
    "t.add_row([\"tfidf w2v\",\"GBDT\",3,200,0.703])\n",
    "print(t)"
   ]
  },
  {
   "cell_type": "code",
   "execution_count": null,
   "metadata": {
    "colab": {},
    "colab_type": "code",
    "id": "0JTxUvqX9jZd"
   },
   "outputs": [],
   "source": []
  },
  {
   "cell_type": "code",
   "execution_count": null,
   "metadata": {},
   "outputs": [],
   "source": []
  },
  {
   "cell_type": "code",
   "execution_count": null,
   "metadata": {},
   "outputs": [],
   "source": []
  },
  {
   "cell_type": "code",
   "execution_count": null,
   "metadata": {},
   "outputs": [],
   "source": []
  },
  {
   "cell_type": "code",
   "execution_count": null,
   "metadata": {},
   "outputs": [],
   "source": []
  },
  {
   "cell_type": "code",
   "execution_count": null,
   "metadata": {},
   "outputs": [],
   "source": []
  },
  {
   "cell_type": "code",
   "execution_count": null,
   "metadata": {},
   "outputs": [],
   "source": []
  },
  {
   "cell_type": "code",
   "execution_count": null,
   "metadata": {},
   "outputs": [],
   "source": []
  },
  {
   "cell_type": "code",
   "execution_count": null,
   "metadata": {},
   "outputs": [],
   "source": []
  },
  {
   "cell_type": "code",
   "execution_count": null,
   "metadata": {},
   "outputs": [],
   "source": []
  },
  {
   "cell_type": "code",
   "execution_count": null,
   "metadata": {},
   "outputs": [],
   "source": []
  }
 ],
 "metadata": {
  "accelerator": "GPU",
  "colab": {
   "collapsed_sections": [],
   "machine_shape": "hm",
   "name": "11_Assignment_GBDT_Instructions.ipynb",
   "provenance": []
  },
  "kernelspec": {
   "display_name": "Python 3",
   "language": "python",
   "name": "python3"
  },
  "language_info": {
   "codemirror_mode": {
    "name": "ipython",
    "version": 3
   },
   "file_extension": ".py",
   "mimetype": "text/x-python",
   "name": "python",
   "nbconvert_exporter": "python",
   "pygments_lexer": "ipython3",
   "version": "3.6.5"
  }
 },
 "nbformat": 4,
 "nbformat_minor": 1
}
